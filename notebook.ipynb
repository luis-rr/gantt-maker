{
 "cells": [
  {
   "cell_type": "code",
   "id": "6254a5ce-4116-4442-a2a0-05d0e8a547e2",
   "metadata": {},
   "source": [
    "from numpy.ma.testutils import assert_array_almost_equal\n",
    "%matplotlib widget"
   ],
   "outputs": [],
   "execution_count": null
  },
  {
   "cell_type": "code",
   "id": "9b6106b1-484f-4aa2-abae-859a326e1b65",
   "metadata": {},
   "source": [
    "import gantt\n",
    "from importlib import reload\n",
    "\n",
    "from matplotlib import pyplot as plt\n",
    "plt.rcParams['font.family'] = 'Nimbus Roman'\n"
   ],
   "outputs": [],
   "execution_count": null
  },
  {
   "cell_type": "code",
   "id": "0a6216a7-665c-434c-8cd8-df45a32daf62",
   "metadata": {},
   "source": [
    "df = gantt.load_gantt_df()"
   ],
   "outputs": [],
   "execution_count": null
  },
  {
   "cell_type": "code",
   "id": "1de3377f-d1b6-499a-9c21-102031db79d0",
   "metadata": {},
   "source": [
    "gantt = reload(gantt)\n",
    "gantt.STYLE = gantt.load_style()\n",
    "\n",
    "gantt.layout_tasks(df)\n",
    "gantt.layout_wp(df)\n",
    "gantt.layout_secondment(df)\n",
    "\n",
    "assert df['x0'].notna().all()\n",
    "\n",
    "gantt.shrink_boxes(df, df['type'] == 'T', length=0.05, thickness=0.2)\n",
    "gantt.shrink_boxes(df, df['type'] == 'WP', length=-0.05, thickness=-0.25)\n",
    "gantt.shrink_boxes(df, df['type'] == 'S', length=0.0, thickness=-0.5)\n",
    "\n",
    "\n",
    "def plotit(df):\n",
    "\n",
    "    ax = gantt.create_fig()\n",
    "\n",
    "    for wp, sdf in df.groupby('WP'):\n",
    "        gantt.plot_wp_detailed(ax, sdf)\n",
    "\n",
    "    gantt.plot_deliverables(ax, df[df['type'] == 'D'])\n",
    "    gantt.plot_milestones(ax, df, df[df['type'] == 'M'])\n",
    "    gantt.plot_secondments(ax, df[df['type'] == 'S'])\n",
    "\n",
    "    ax.relim()\n",
    "    ax.autoscale_view(tight=True)\n",
    "\n",
    "    return ax\n",
    "\n",
    "\n",
    "ax = plotit(df)\n",
    "ax.figure.savefig('gantt.png', dpi=300, bbox_inches='tight')\n",
    ";"
   ],
   "outputs": [],
   "execution_count": null
  },
  {
   "metadata": {},
   "cell_type": "code",
   "source": [
    "import numpy as np\n",
    "\n",
    "def describe_item(item):\n",
    "    name = item['name'].strip()\n",
    "    t = item['type']\n",
    "    desc = item['desc'].strip()\n",
    "    start = int(item['start'])\n",
    "    duration = int(item['duration'])\n",
    "    stop = start + duration - 1\n",
    "\n",
    "    suffix = ''\n",
    "\n",
    "    if t == 'S':\n",
    "        return np.nan\n",
    "\n",
    "    if t in ['D', 'M']:\n",
    "        prefix = '▸ '\n",
    "\n",
    "    elif t in ['WP']:\n",
    "        prefix = '\\n*'\n",
    "        suffix = '*'\n",
    "\n",
    "    else:\n",
    "        prefix = ''\n",
    "\n",
    "    date = f'M{start}' if start == stop else f'M{start:d}-{stop:d}'\n",
    "\n",
    "    return f'{prefix}{name} {desc} ({date}){suffix}'\n",
    "\n",
    "print('\\n'.join(df.apply(describe_item, axis=1).dropna().values))\n",
    "\n"
   ],
   "id": "fcaa736ab5109fde",
   "outputs": [],
   "execution_count": null
  },
  {
   "metadata": {},
   "cell_type": "code",
   "source": "",
   "id": "1fc6bb33a1ac85be",
   "outputs": [],
   "execution_count": null
  }
 ],
 "metadata": {
  "kernelspec": {
   "display_name": "Python [conda env:mel] *",
   "language": "python",
   "name": "conda-env-mel-py"
  },
  "language_info": {
   "codemirror_mode": {
    "name": "ipython",
    "version": 3
   },
   "file_extension": ".py",
   "mimetype": "text/x-python",
   "name": "python",
   "nbconvert_exporter": "python",
   "pygments_lexer": "ipython3",
   "version": "3.11.13"
  }
 },
 "nbformat": 4,
 "nbformat_minor": 5
}
